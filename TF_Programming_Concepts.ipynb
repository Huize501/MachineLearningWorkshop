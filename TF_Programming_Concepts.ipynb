{
  "nbformat": 4,
  "nbformat_minor": 0,
  "metadata": {
    "colab": {
      "name": "TF Programming Concepts.ipynb",
      "version": "0.3.2",
      "provenance": [],
      "collapsed_sections": []
    },
    "kernelspec": {
      "name": "python2",
      "display_name": "Python 2"
    }
  },
  "cells": [
    {
      "metadata": {
        "id": "8xgUJSlm7sXq",
        "colab_type": "text"
      },
      "cell_type": "markdown",
      "source": [
        "<h1> Getting started with TensorFlow </h1>\n",
        "\n",
        "In this notebook, you play around with the TensorFlow Python API. For more information have a look at [Tensorflow Documentation](https://www.tensorflow.org/programmers_guide/low_level_intro)\n",
        "\n",
        "In this Notebook we are going through these steps:\n",
        "- Multiply & add arrays using Numpy. \n",
        "- Create a Tensorflow graph and execute the graph. \n",
        "- Build Heron's Formula using Tensorflow.\n",
        "- Use tf.eager. \n",
        "- Extra: work with Layers API. \n",
        "\n",
        "**Make sure that you run through this notebook from the beginning**"
      ]
    },
    {
      "metadata": {
        "id": "Wkf-0ol_7sXs",
        "colab_type": "text"
      },
      "cell_type": "markdown",
      "source": [
        "First let us import the TF and Numpy library. "
      ]
    },
    {
      "metadata": {
        "id": "9LB_0klV7sXv",
        "colab_type": "code",
        "outputId": "83d9e46e-7728-4204-8a37-1eca8aa1f715",
        "colab": {
          "base_uri": "https://localhost:8080/",
          "height": 34
        }
      },
      "cell_type": "code",
      "source": [
        "#Import Libraries\n",
        "import tensorflow as tf\n",
        "import numpy as np\n",
        "\n",
        "# Let's print the TF version\n",
        "print (tf.__version__)"
      ],
      "execution_count": 4,
      "outputs": [
        {
          "output_type": "stream",
          "text": [
            "1.11.0\n"
          ],
          "name": "stdout"
        }
      ]
    },
    {
      "metadata": {
        "id": "J2fk0lv67sX4",
        "colab_type": "text"
      },
      "cell_type": "markdown",
      "source": [
        "<h3> Tensor Values </h3>\n",
        "\n",
        "As a reminder the different ranks for Tensor's"
      ]
    },
    {
      "metadata": {
        "id": "YlYvGdia7sX5",
        "colab_type": "code",
        "colab": {}
      },
      "cell_type": "code",
      "source": [
        "3. # a rank 0 tensor; a scalar with shape [],\n",
        "[1., 2., 3.] # a rank 1 tensor; a vector with shape [3]\n",
        "[[1., 2., 3.], [4., 5., 6.]] # a rank 2 tensor; a matrix with shape [2, 3]\n",
        "[[[1., 2., 3.]], [[7., 8., 9.]]] # a rank 3 tensor with shape [2, 1, 3]"
      ],
      "execution_count": 0,
      "outputs": []
    },
    {
      "metadata": {
        "id": "LSHwDKsG7sX7",
        "colab_type": "text"
      },
      "cell_type": "markdown",
      "source": [
        "<h2> Adding two arrays using Numpy </h2>\n",
        "\n",
        "First, let's try doing this using numpy, the Python numeric package. numpy code is immediately evaluated."
      ]
    },
    {
      "metadata": {
        "id": "OBBeP7nL7sX8",
        "colab_type": "code",
        "outputId": "634afc38-c6b6-4871-c855-f8205673a1c3",
        "colab": {
          "base_uri": "https://localhost:8080/",
          "height": 34
        }
      },
      "cell_type": "code",
      "source": [
        "#Let's add two numpy arrays (tensors)\n",
        "\n",
        "a = np.array([5, 3, 8])\n",
        "b = np.array([3, -1, 2])\n",
        "c = np.add(a, b)\n",
        "print c"
      ],
      "execution_count": 2,
      "outputs": [
        {
          "output_type": "stream",
          "text": [
            "[ 8  2 10]\n"
          ],
          "name": "stdout"
        }
      ]
    },
    {
      "metadata": {
        "id": "nIOsFwal7sX_",
        "colab_type": "text"
      },
      "cell_type": "markdown",
      "source": [
        "**Exercise 1:**\n",
        "\n",
        "- *Now change the code and multiply the two arrays.* \n",
        "- *If you want you can also change the values of the arrays.*\n",
        "- *You can also try other Numpy [operators](http://www.scipy-lectures.org/intro/numpy/operations.html)*"
      ]
    },
    {
      "metadata": {
        "id": "i7y0TeMY7sYA",
        "colab_type": "code",
        "colab": {}
      },
      "cell_type": "code",
      "source": [
        "# Write here your code for multiplying the arrays. \n"
      ],
      "execution_count": 0,
      "outputs": []
    },
    {
      "metadata": {
        "id": "fUHU4_iA7sYC",
        "colab_type": "text"
      },
      "cell_type": "markdown",
      "source": [
        "The equivalent code in TensorFlow consists of two steps:\n",
        "<p>\n",
        "<h3> Step 1: Build a TF graph </h3>"
      ]
    },
    {
      "metadata": {
        "scrolled": true,
        "id": "6331D8mT7sYD",
        "colab_type": "code",
        "outputId": "fe3e811c-a3d1-47d5-c580-3a49ef0635a8",
        "colab": {
          "base_uri": "https://localhost:8080/",
          "height": 34
        }
      },
      "cell_type": "code",
      "source": [
        "a = tf.constant([5, 3, 8])\n",
        "b = tf.constant([3, -1, 2])\n",
        "c = tf.add(a, b)\n",
        "print c"
      ],
      "execution_count": 3,
      "outputs": [
        {
          "output_type": "stream",
          "text": [
            "Tensor(\"Add:0\", shape=(3,), dtype=int32)\n"
          ],
          "name": "stdout"
        }
      ]
    },
    {
      "metadata": {
        "id": "CjIbv4fH7sYE",
        "colab_type": "text"
      },
      "cell_type": "markdown",
      "source": [
        "**Exercise 2**\n",
        "\n",
        "c is an operation (\"Add\") that returns a tensor of shape (3,) and holds int32. The shape is inferred from the computation graph.\n",
        "\n",
        "*Try the following in the cell above:*\n",
        "- *Change the 5 to 5.0, and similarly the other five numbers. What happens when you run this cell?*\n",
        "- *Add an extra number to a, but leave b at the original (3,) shape. What happens when you run this cell?*\n",
        "- *Change the code back to a version that works*\n",
        "- *Run the graph*"
      ]
    },
    {
      "metadata": {
        "id": "MRC5tg-v7sYF",
        "colab_type": "text"
      },
      "cell_type": "markdown",
      "source": [
        "**Extra Question**\n",
        "\n",
        "- When is it possible to apply opperations on matrices with different shapes?"
      ]
    },
    {
      "metadata": {
        "id": "LtypUU2d7sYG",
        "colab_type": "text"
      },
      "cell_type": "markdown",
      "source": [
        "**Exercise 3**\n",
        "\n",
        "- *Now write the equivilant for the Numpy code with the multiply operator - your solution at exercise one - using Tensorflow. \n",
        "- *Add the tf.session code that will give you the results of running your graph. *\n",
        "- *Check if you are getting the same results as with the Numpy operation?*\n",
        "\n",
        "**Make sure that you give your variables a new name!**"
      ]
    },
    {
      "metadata": {
        "id": "ADvCsAZG7sYL",
        "colab_type": "text"
      },
      "cell_type": "markdown",
      "source": [
        "<h2> Heron's Formula in TensorFlow </h2>\n",
        "\n",
        "The area of triangle whose three sides are $(a, b, c)$ is $\\sqrt{s(s-a)(s-b)(s-c)}$ where $s=\\frac{a+b+c}{2}$ \n",
        "\n",
        "Look up the available operations at https://www.tensorflow.org/api_docs/python/tf"
      ]
    },
    {
      "metadata": {
        "id": "bEt_bGCX7sYM",
        "colab_type": "text"
      },
      "cell_type": "markdown",
      "source": [
        "**Exercise 4**\n",
        "\n",
        "- *Now implement the Heron's Formula mentioned above.*"
      ]
    },
    {
      "metadata": {
        "id": "GnpeD9zq7sYN",
        "colab_type": "code",
        "colab": {}
      },
      "cell_type": "code",
      "source": [
        "def compute_area(sides):\n",
        "  # slice the input to get the sides\n",
        "  \n",
        "  # Heron's formula\n",
        "  s =         # Function for S here. \n",
        "  areasq =    # Area squared here\n",
        "  return tf.sqrt(areasq)\n",
        "\n",
        "with tf.Session() as sess:\n",
        "  # pass in two triangles\n",
        "  area = compute_area(tf.constant([\n",
        "      [5.0, 3.0, 7.1],\n",
        "      [2.3, 4.1, 4.8]\n",
        "    ]))\n",
        "  result = sess.run(area)\n",
        "  print result"
      ],
      "execution_count": 0,
      "outputs": []
    },
    {
      "metadata": {
        "id": "rgcha9jW7sYP",
        "colab_type": "text"
      },
      "cell_type": "markdown",
      "source": [
        "## tf.eager\n",
        "\n",
        "tf.eager allows you to avoid the build-then-run stages. However, most production code will follow the lazy evaluation paradigm because the lazy evaluation paradigm is what allows for multi-device support and distribution. \n",
        "<p>\n",
        "One thing you could do is to develop using tf.eager and then comment out the eager execution and add in the session management code.\n",
        "\n",
        "<b> You may need to click on Reset Session to try this out </b>"
      ]
    },
    {
      "metadata": {
        "scrolled": true,
        "id": "wa56Wu107sYP",
        "colab_type": "code",
        "outputId": "56eac6e6-fe9a-488a-e00b-7988d743bcd3",
        "colab": {}
      },
      "cell_type": "code",
      "source": [
        "import tensorflow as tf\n",
        "from tensorflow.contrib.eager.python import tfe\n",
        "tfe.enable_eager_execution()"
      ],
      "execution_count": 0,
      "outputs": [
        {
          "output_type": "stream",
          "text": [
            "/Users/erwinh/anaconda/lib/python2.7/site-packages/h5py/__init__.py:34: FutureWarning: Conversion of the second argument of issubdtype from `float` to `np.floating` is deprecated. In future, it will be treated as `np.float64 == np.dtype(float).type`.\n",
            "  from ._conv import register_converters as _register_converters\n"
          ],
          "name": "stderr"
        }
      ]
    },
    {
      "metadata": {
        "id": "Up_Q9hb57sYT",
        "colab_type": "code",
        "outputId": "b8352d14-80f2-4487-8684-3cf31bb72dee",
        "colab": {}
      },
      "cell_type": "code",
      "source": [
        "x = tf.constant([5, 3, 8])\n",
        "y = tf.constant([3, -1, 2])\n",
        "z = tf.add(x, y)\n",
        "print z"
      ],
      "execution_count": 0,
      "outputs": [
        {
          "output_type": "stream",
          "text": [
            "tf.Tensor([ 8  2 10], shape=(3,), dtype=int32)\n"
          ],
          "name": "stdout"
        }
      ]
    },
    {
      "metadata": {
        "id": "tZVf4EC47sYX",
        "colab_type": "text"
      },
      "cell_type": "markdown",
      "source": [
        "# If you have time left"
      ]
    },
    {
      "metadata": {
        "id": "35vLyMVR7sYY",
        "colab_type": "text"
      },
      "cell_type": "markdown",
      "source": [
        "## Layers \n",
        "\n",
        "Go and give the layers API a try. You can find more information on this page. [Tensorflow Layers](https://www.tensorflow.org/programmers_guide/low_level_intro#layers)\n",
        "\n"
      ]
    },
    {
      "metadata": {
        "id": "qCdvybm87sYY",
        "colab_type": "text"
      },
      "cell_type": "markdown",
      "source": [
        "Copyright 2017 Google Inc. Licensed under the Apache License, Version 2.0 (the \"License\"); you may not use this file except in compliance with the License. You may obtain a copy of the License at http://www.apache.org/licenses/LICENSE-2.0 Unless required by applicable law or agreed to in writing, software distributed under the License is distributed on an \"AS IS\" BASIS, WITHOUT WARRANTIES OR CONDITIONS OF ANY KIND, either express or implied. See the License for the specific language governing permissions and limitations under the License"
      ]
    }
  ]
}