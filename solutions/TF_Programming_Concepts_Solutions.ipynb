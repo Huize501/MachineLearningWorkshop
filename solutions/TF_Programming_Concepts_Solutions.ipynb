{
  "nbformat": 4,
  "nbformat_minor": 0,
  "metadata": {
    "colab": {
      "name": "TF Programming Concepts Solutions.ipynb",
      "version": "0.3.2",
      "provenance": [],
      "collapsed_sections": []
    },
    "kernelspec": {
      "display_name": "Python 2",
      "language": "python",
      "name": "python2"
    }
  },
  "cells": [
    {
      "metadata": {
        "id": "hjIXFgGv-dTM",
        "colab_type": "text"
      },
      "cell_type": "markdown",
      "source": [
        "<h1> Getting started with TensorFlow </h1>\n",
        "\n",
        "In this notebook, you play around with the TensorFlow Python API. For more information have a look at [Tensorflow Documentation](https://www.tensorflow.org/programmers_guide/low_level_intro)\n",
        "\n",
        "In this Notebook we are going through these steps:\n",
        "- Multiply & add arrays using Numpy. \n",
        "- Create a Tensorflow graph and execute the graph. \n",
        "- Build Heron's Formula using Tensorflow.\n",
        "- Use tf.eager. \n",
        "- Extra: work with Layers API. \n",
        "\n",
        "**Make sure that you run through this notebook from the beginning**"
      ]
    },
    {
      "metadata": {
        "id": "FGq7HJnH-dTP",
        "colab_type": "text"
      },
      "cell_type": "markdown",
      "source": [
        "First let us import the TF and Numpy library. "
      ]
    },
    {
      "metadata": {
        "id": "Zt3kbe3I-dTQ",
        "colab_type": "code",
        "colab": {
          "base_uri": "https://localhost:8080/",
          "height": 34
        },
        "outputId": "150ad36e-78f3-40d4-f2c8-dd3021b41a86"
      },
      "cell_type": "code",
      "source": [
        "# Import Libraries\n",
        "import tensorflow as tf\n",
        "import numpy as np\n",
        "\n",
        "# Let's print the TF version \n",
        "print (tf.__version__)"
      ],
      "execution_count": 2,
      "outputs": [
        {
          "output_type": "stream",
          "text": [
            "1.11.0\n"
          ],
          "name": "stdout"
        }
      ]
    },
    {
      "metadata": {
        "id": "YlbonkNQ-dTY",
        "colab_type": "text"
      },
      "cell_type": "markdown",
      "source": [
        "<h3> Tensor Values </h3>\n",
        "\n",
        "As a reminder the different ranks for Tensor's"
      ]
    },
    {
      "metadata": {
        "id": "NgfdC2Az-dTY",
        "colab_type": "code",
        "colab": {}
      },
      "cell_type": "code",
      "source": [
        "3. # a rank 0 tensor; a scalar with shape [],\n",
        "[1., 2., 3.] # a rank 1 tensor; a vector with shape [3]\n",
        "[[1., 2., 3.], [4., 5., 6.]] # a rank 2 tensor; a matrix with shape [2, 3]\n",
        "[[[1., 2., 3.]], [[7., 8., 9.]]] # a rank 3 tensor with shape [2, 1, 3]"
      ],
      "execution_count": 0,
      "outputs": []
    },
    {
      "metadata": {
        "id": "_goFHtee-dTc",
        "colab_type": "text"
      },
      "cell_type": "markdown",
      "source": [
        "<h2> Adding two arrays using Numpy </h2>\n",
        "\n",
        "First, let's try doing this using numpy, the Python numeric package. numpy code is immediately evaluated."
      ]
    },
    {
      "metadata": {
        "id": "LsHXAQju-dTe",
        "colab_type": "code",
        "colab": {},
        "outputId": "32bf90f0-64e4-4d32-9b33-f10f91592112"
      },
      "cell_type": "code",
      "source": [
        "#Let's add two numpy arrays (tensors)\n",
        "\n",
        "a = np.array([5, 3, 8])\n",
        "b = np.array([3, -1, 2])\n",
        "c = np.add(a, b)\n",
        "print c"
      ],
      "execution_count": 0,
      "outputs": [
        {
          "output_type": "stream",
          "text": [
            "[ 8  2 10]\n"
          ],
          "name": "stdout"
        }
      ]
    },
    {
      "metadata": {
        "id": "X6QwDRw2-dTj",
        "colab_type": "text"
      },
      "cell_type": "markdown",
      "source": [
        "**Exercise 1:**\n",
        "\n",
        "- *Now change the code and multiply the two arrays.* \n",
        "- *If you want you can also change the values of the arrays.*\n",
        "- *You can also try other Numpy [operators](http://www.scipy-lectures.org/intro/numpy/operations.html)*"
      ]
    },
    {
      "metadata": {
        "id": "CTn47C5P-dTj",
        "colab_type": "text"
      },
      "cell_type": "markdown",
      "source": [
        "** Solution 1 **"
      ]
    },
    {
      "metadata": {
        "id": "J77XxE7B-dTm",
        "colab_type": "code",
        "colab": {},
        "outputId": "a785ad7a-2d19-41f4-f771-02995d872692"
      },
      "cell_type": "code",
      "source": [
        "#Let's multiply two numpy arrays (tensors)\n",
        "\n",
        "a = np.array([5, 3, 8])\n",
        "b = np.array([3, -1, 2])\n",
        "c = np.multiply(a, b)\n",
        "print c"
      ],
      "execution_count": 0,
      "outputs": [
        {
          "output_type": "stream",
          "text": [
            "[15 -3 16]\n"
          ],
          "name": "stdout"
        }
      ]
    },
    {
      "metadata": {
        "id": "eIyVNsuq-dTq",
        "colab_type": "text"
      },
      "cell_type": "markdown",
      "source": [
        "<h4> OR </h4>"
      ]
    },
    {
      "metadata": {
        "scrolled": true,
        "id": "OL0ScWFX-dTr",
        "colab_type": "code",
        "colab": {},
        "outputId": "1c432928-b43b-4225-a0a1-711a2cc6d80e"
      },
      "cell_type": "code",
      "source": [
        "# Shortcut for multiplying\n",
        "c = a * b\n",
        "print c"
      ],
      "execution_count": 0,
      "outputs": [
        {
          "output_type": "stream",
          "text": [
            "[15 -3 16]\n"
          ],
          "name": "stdout"
        }
      ]
    },
    {
      "metadata": {
        "id": "cSbKpjQi-dTv",
        "colab_type": "text"
      },
      "cell_type": "markdown",
      "source": [
        "We can do direct operations on the arrays. Do you also notice that when we apply the operation we can print the direct result. "
      ]
    },
    {
      "metadata": {
        "id": "HwPop3dv-dTx",
        "colab_type": "text"
      },
      "cell_type": "markdown",
      "source": [
        "<h2> Tensorflow </h2>"
      ]
    },
    {
      "metadata": {
        "id": "B2R9Fnv8-dTy",
        "colab_type": "text"
      },
      "cell_type": "markdown",
      "source": [
        "The equivalent code in TensorFlow consists of two steps:\n",
        "<p>\n",
        "<h3> Step 1: Build a TF graph </h3>"
      ]
    },
    {
      "metadata": {
        "scrolled": true,
        "id": "Z3fF9Els-dTz",
        "colab_type": "code",
        "colab": {
          "base_uri": "https://localhost:8080/",
          "height": 34
        },
        "outputId": "3233dd68-238f-442b-d3a1-f8bbdc135353"
      },
      "cell_type": "code",
      "source": [
        "a = tf.constant([5, 3, 8])\n",
        "b = tf.constant([3, -1, 2])\n",
        "c = tf.add(a, b)\n",
        "print c"
      ],
      "execution_count": 4,
      "outputs": [
        {
          "output_type": "stream",
          "text": [
            "Tensor(\"Add_1:0\", shape=(3,), dtype=int32)\n"
          ],
          "name": "stdout"
        }
      ]
    },
    {
      "metadata": {
        "id": "jo1vTm6o-dT3",
        "colab_type": "text"
      },
      "cell_type": "markdown",
      "source": [
        "**Exercise 2**\n",
        "\n",
        "c is an operation (\"Add\") that returns a tensor of shape (3,) and holds data type int32. The shape is inferred from the computation graph.\n",
        "\n",
        "*Try the following in the cell above:*\n",
        "- *Change the 5 to 5.0, and similarly the other five numbers. What happens when you run this cell?*\n",
        "- *Add an extra number to a, but leave b at the original (3,) shape. What happens when you run this cell?*\n",
        "- *Change the code back to a version that works*\n",
        "- *Run the graph*"
      ]
    },
    {
      "metadata": {
        "id": "pFmEdvqK-dT4",
        "colab_type": "text"
      },
      "cell_type": "markdown",
      "source": [
        "**Extra Question**\n",
        "\n",
        "- When is it possible to apply opperations on matrices with different shapes?"
      ]
    },
    {
      "metadata": {
        "id": "aEBTHOK8-dT4",
        "colab_type": "text"
      },
      "cell_type": "markdown",
      "source": [
        "** Solution 2 **"
      ]
    },
    {
      "metadata": {
        "id": "jM__1hUz-dT6",
        "colab_type": "text"
      },
      "cell_type": "markdown",
      "source": [
        "ValueError: *Input 'y' of 'Add' Op has type int32 that does not match type float32 of argument 'x'.* \n",
        "<p> \n",
        "We need to make sure that the data types of our tensors match \n",
        "<p>\n",
        "ValueError: *ValueError: Dimensions must be equal, but are 4 and 3 for 'Add_3' (op: 'Add') with input shapes: [4], [3].*\n",
        "<p>\n",
        "Also make sure that your Tensors have a shape we can multiply.\n",
        "\n",
        "We have now seen that TF does lazy evaluation. It will print the information about the Tensor but not the result:\n",
        "\n",
        "*Tensor(\"Add_7:0\", shape=(3,), dtype=int32)*"
      ]
    },
    {
      "metadata": {
        "id": "PhMYA4do-dT7",
        "colab_type": "code",
        "colab": {},
        "outputId": "bdf38fc8-633e-4fa5-fbb4-b8518da86b1e"
      },
      "cell_type": "code",
      "source": [
        "# It works for tensors that have a different shape. \n",
        "a2 = tf.constant([5, 3])\n",
        "b2 = tf.constant([3])\n",
        "c2 = tf.add(a2, b2)\n",
        "print c2"
      ],
      "execution_count": 0,
      "outputs": [
        {
          "output_type": "stream",
          "text": [
            "Tensor(\"Add_1:0\", shape=(2,), dtype=int32)\n"
          ],
          "name": "stdout"
        }
      ]
    },
    {
      "metadata": {
        "id": "_cYFLuS6-dUC",
        "colab_type": "text"
      },
      "cell_type": "markdown",
      "source": [
        "**Exercise 3**\n",
        "\n",
        "- *Now write the equivilant for the Numpy code with the multiply operator - your solution at exercise one - using Tensorflow. \n",
        "- *Add the tf.session code that will give you the results of running your graph. *\n",
        "- *Check if you are getting the same results as with the Numpy operation?*\n",
        "\n",
        "**Make sure that you give your variables a new name!**"
      ]
    },
    {
      "metadata": {
        "id": "3iR_fnnU-dUC",
        "colab_type": "text"
      },
      "cell_type": "markdown",
      "source": [
        "** Solution 3a **"
      ]
    },
    {
      "metadata": {
        "id": "aVY79SoY-dUD",
        "colab_type": "code",
        "colab": {
          "base_uri": "https://localhost:8080/",
          "height": 34
        },
        "outputId": "a6627993-5adc-461d-d4fd-533eef9cab3e"
      },
      "cell_type": "code",
      "source": [
        "# Creating the graph Graph \n",
        "\n",
        "x = tf.constant([5, 3, 8])\n",
        "y = tf.constant([3, -1, 2])\n",
        "z = tf.multiply(x, y)\n",
        "print z"
      ],
      "execution_count": 8,
      "outputs": [
        {
          "output_type": "stream",
          "text": [
            "Tensor(\"Mul_1:0\", shape=(3,), dtype=int32)\n"
          ],
          "name": "stdout"
        }
      ]
    },
    {
      "metadata": {
        "scrolled": true,
        "id": "iw_Yav6F-dUH",
        "colab_type": "code",
        "colab": {
          "base_uri": "https://localhost:8080/",
          "height": 34
        },
        "outputId": "0687c329-c786-4a30-e20d-77cfee1d00fd"
      },
      "cell_type": "code",
      "source": [
        "#Sesstion to run the graph\n",
        "# Launch the graph in a session.\n",
        "sess = tf.Session()\n",
        "\n",
        "# Evaluate the tensor.\n",
        "print(sess.run(z))"
      ],
      "execution_count": 9,
      "outputs": [
        {
          "output_type": "stream",
          "text": [
            "[15 -3 16]\n"
          ],
          "name": "stdout"
        }
      ]
    },
    {
      "metadata": {
        "id": "mZ_gFMww-dUK",
        "colab_type": "text"
      },
      "cell_type": "markdown",
      "source": [
        "** Solution 3a **"
      ]
    },
    {
      "metadata": {
        "id": "ScuSV91n-dUN",
        "colab_type": "code",
        "colab": {}
      },
      "cell_type": "code",
      "source": [
        "_m = np.array([5, 3, 8])\n",
        "_n = np.array([3, -1, 2])\n",
        "_o = np.multiply(_m, _n)\n",
        "m = tf.convert_to_tensor(_m)\n",
        "n = tf.convert_to_tensor(_n)\n",
        "o = tf.convert_to_tensor(_o)"
      ],
      "execution_count": 0,
      "outputs": []
    },
    {
      "metadata": {
        "id": "jOzz9Pwf-dUS",
        "colab_type": "code",
        "colab": {
          "base_uri": "https://localhost:8080/",
          "height": 34
        },
        "outputId": "e14d02f3-8bdd-4043-8a41-c1616c791ba8"
      },
      "cell_type": "code",
      "source": [
        "#Sesstion to run the graph\n",
        "# Launch the graph in a session.\n",
        "sess = tf.Session()\n",
        "\n",
        "# Evaluate the tensor.\n",
        "print(sess.run(z))"
      ],
      "execution_count": 11,
      "outputs": [
        {
          "output_type": "stream",
          "text": [
            "[15 -3 16]\n"
          ],
          "name": "stdout"
        }
      ]
    },
    {
      "metadata": {
        "id": "cMUJUSNZ-dUe",
        "colab_type": "text"
      },
      "cell_type": "markdown",
      "source": [
        "<h2> Heron's Formula in TensorFlow </h2>\n",
        "\n",
        "The area of triangle whose three sides are $(a, b, c)$ is $\\sqrt{s(s-a)(s-b)(s-c)}$ where $s=\\frac{a+b+c}{2}$ \n",
        "\n",
        "Look up the available operations at https://www.tensorflow.org/api_docs/python/tf"
      ]
    },
    {
      "metadata": {
        "id": "QLU7FTtm-dUg",
        "colab_type": "text"
      },
      "cell_type": "markdown",
      "source": [
        "**Exercise 4**\n",
        "\n",
        "- *Now implement the Heron's Formula mentioned above.*"
      ]
    },
    {
      "metadata": {
        "id": "Bm2Rp0u0-dUh",
        "colab_type": "code",
        "colab": {}
      },
      "cell_type": "code",
      "source": [
        "def compute_area(sides):\n",
        "  # slice the input to get the sides\n",
        "  \n",
        "  # Heron's formula\n",
        "  s =         # Function for S here. \n",
        "  areasq =    # Area squared here\n",
        "  return tf.sqrt(areasq)\n",
        "\n",
        "with tf.Session() as sess:\n",
        "  # pass in two triangles\n",
        "  area = compute_area(tf.constant([\n",
        "      [5.0, 3.0, 7.1],\n",
        "      [2.3, 4.1, 4.8]\n",
        "    ]))\n",
        "  result = sess.run(area)\n",
        "  print result"
      ],
      "execution_count": 0,
      "outputs": []
    },
    {
      "metadata": {
        "id": "eLX2lHcJ-dUk",
        "colab_type": "text"
      },
      "cell_type": "markdown",
      "source": [
        "**Solution 4**"
      ]
    },
    {
      "metadata": {
        "id": "8jB9wa1G-dUm",
        "colab_type": "code",
        "colab": {
          "base_uri": "https://localhost:8080/",
          "height": 34
        },
        "outputId": "e6ea09fb-e6d8-4dc0-8e79-6651b6b26d26"
      },
      "cell_type": "code",
      "source": [
        "def compute_area(sides):\n",
        "  # slice the input to get the sides\n",
        "  a = sides[:,0]  # 5.0, 2.3\n",
        "  b = sides[:,1]  # 3.0, 4.1\n",
        "  c = sides[:,2]  # 7.1, 4.8\n",
        "  \n",
        "  # Heron's formula\n",
        "  s = (a + b + c) * 0.5   # (a + b) is a short-cut to tf.add(a, b)\n",
        "  areasq = s * (s - a) * (s - b) * (s - c) # (a * b) is a short-cut to tf.multiply(a, b), not tf.matmul(a, b)\n",
        "  return tf.sqrt(areasq)\n",
        "\n",
        "with tf.Session() as sess:\n",
        "  # pass in two triangles\n",
        "  area = compute_area(tf.constant([\n",
        "      [5.0, 3.0, 7.1],\n",
        "      [2.3, 4.1, 4.8]\n",
        "    ]))\n",
        "  result = sess.run(area)\n",
        "  print result"
      ],
      "execution_count": 12,
      "outputs": [
        {
          "output_type": "stream",
          "text": [
            "[6.278497 4.709139]\n"
          ],
          "name": "stdout"
        }
      ]
    },
    {
      "metadata": {
        "id": "L70GmQup-dUp",
        "colab_type": "text"
      },
      "cell_type": "markdown",
      "source": [
        "## tf.eager\n",
        "\n",
        "tf.eager allows you to avoid the build-then-run stages. However, most production code will follow the lazy evaluation paradigm because the lazy evaluation paradigm is what allows for multi-device support and distribution. \n",
        "<p>\n",
        "One thing you could do is to develop using tf.eager and then comment out the eager execution and add in the session management code.\n",
        "\n",
        "<b> You may need to click on Reset Session to try this out </b>"
      ]
    },
    {
      "metadata": {
        "id": "wlzeZQal-dUp",
        "colab_type": "code",
        "colab": {},
        "outputId": "1aeef5ff-27a5-488c-ad42-2499b6f25919"
      },
      "cell_type": "code",
      "source": [
        "import tensorflow as tf\n",
        "from tensorflow.contrib.eager.python import tfe\n",
        "tfe.enable_eager_execution()"
      ],
      "execution_count": 0,
      "outputs": [
        {
          "output_type": "stream",
          "text": [
            "/Users/erwinh/anaconda/lib/python2.7/site-packages/h5py/__init__.py:34: FutureWarning: Conversion of the second argument of issubdtype from `float` to `np.floating` is deprecated. In future, it will be treated as `np.float64 == np.dtype(float).type`.\n",
            "  from ._conv import register_converters as _register_converters\n"
          ],
          "name": "stderr"
        }
      ]
    },
    {
      "metadata": {
        "id": "LojZzQ6N-dUu",
        "colab_type": "code",
        "colab": {},
        "outputId": "44298087-e679-44a6-daf1-7823be8e76e6"
      },
      "cell_type": "code",
      "source": [
        "x = tf.constant([5, 3, 8])\n",
        "y = tf.constant([3, -1, 2])\n",
        "z = tf.add(x, y)\n",
        "print z"
      ],
      "execution_count": 0,
      "outputs": [
        {
          "output_type": "stream",
          "text": [
            "tf.Tensor([ 8  2 10], shape=(3,), dtype=int32)\n"
          ],
          "name": "stdout"
        }
      ]
    },
    {
      "metadata": {
        "id": "9k-6FuW0-dUz",
        "colab_type": "text"
      },
      "cell_type": "markdown",
      "source": [
        "# If you have time left"
      ]
    },
    {
      "metadata": {
        "id": "5kYUneme-dU0",
        "colab_type": "text"
      },
      "cell_type": "markdown",
      "source": [
        "## Layers \n",
        "\n",
        "Go and give the layers API a try. You can find more information on this page. [Tensorflow Layers](https://www.tensorflow.org/programmers_guide/low_level_intro#layers)\n",
        "\n"
      ]
    },
    {
      "metadata": {
        "id": "JR9I-6eL-dU2",
        "colab_type": "text"
      },
      "cell_type": "markdown",
      "source": [
        "Copyright 2017 Google Inc. Licensed under the Apache License, Version 2.0 (the \"License\"); you may not use this file except in compliance with the License. You may obtain a copy of the License at http://www.apache.org/licenses/LICENSE-2.0 Unless required by applicable law or agreed to in writing, software distributed under the License is distributed on an \"AS IS\" BASIS, WITHOUT WARRANTIES OR CONDITIONS OF ANY KIND, either express or implied. See the License for the specific language governing permissions and limitations under the License"
      ]
    }
  ]
}